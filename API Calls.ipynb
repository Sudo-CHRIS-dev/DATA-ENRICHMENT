{
  "cells": [
    {
      "cell_type": "code",
      "execution_count": 37,
      "metadata": {
        "id": "TPh_GQWo1yiI"
      },
      "outputs": [],
      "source": [
        "import pandas as pd\n",
        "import numpy as np"
      ]
    },
    {
      "cell_type": "code",
      "execution_count": null,
      "metadata": {
        "id": "xNcQ66MnxwNY"
      },
      "outputs": [],
      "source": [
        "basics_url=\"https://datasets.imdbws.com/title.basics.tsv.gz\"\n",
        "ratings_url=\"https://datasets.imdbws.com/title.ratings.tsv.gz\"\n",
        "akas_url=\"https://datasets.imdbws.com/title.akas.tsv.gz\"\n",
        "\n",
        "basics = pd.read_csv(basics_url, sep='\\t', low_memory=False)\n",
        "ratings = pd.read_csv(ratings_url, sep='\\t', low_memory=False)\n",
        "akas = pd.read_csv(akas_url, sep='\\t', low_memory=False)"
      ]
    },
    {
      "cell_type": "code",
      "execution_count": null,
      "metadata": {
        "colab": {
          "base_uri": "https://localhost:8080/"
        },
        "id": "87UoIB4a7i1X",
        "outputId": "95ae4a1f-c6fa-47c3-f9b8-35fb412c3cc9"
      },
      "outputs": [],
      "source": [
        "akas = akas.replace({'\\\\N':np.nan})\n",
        "akas = akas[akas['region'].str.contains('US',case=False,na=False)]"
      ]
    },
    {
      "cell_type": "code",
      "execution_count": null,
      "metadata": {
        "colab": {
          "base_uri": "https://localhost:8080/",
          "height": 313
        },
        "id": "3o6FU19v1wzf",
        "outputId": "4dab7500-28d5-44ce-958d-3682a4875032"
      },
      "outputs": [],
      "source": [
        "basics = basics.replace({'\\\\N':np.nan})\n",
        "basics = basics.dropna(axis=0, subset=['runtimeMinutes'])\n",
        "basics = basics.dropna(axis=0, subset=['genres'])\n",
        "basics = basics[basics['titleType'].str.contains('Movie',case=False,na=False)]\n",
        "basics = basics.drop(basics[basics['startYear'] < '2000'].index)\n",
        "basics = basics.drop(basics[basics['startYear'] > '2022'].index)\n",
        "basics = basics[~basics['genres'].str.contains('documentary',case=False,na=False)]\n",
        "basics = basics[basics['tconst'].isin(akas['titleId'])]"
      ]
    },
    {
      "cell_type": "code",
      "execution_count": null,
      "metadata": {},
      "outputs": [],
      "source": [
        "ratings = ratings.replace({'\\\\N':np.nan})\n",
        "ratings = ratings[ratings['tconst'].isin(akas['titleId'])]"
      ]
    },
    {
      "cell_type": "code",
      "execution_count": null,
      "metadata": {},
      "outputs": [
        {
          "name": "stdout",
          "output_type": "stream",
          "text": [
            "<class 'pandas.core.frame.DataFrame'>\n",
            "Index: 99394 entries, 34800 to 10248547\n",
            "Data columns (total 9 columns):\n",
            " #   Column          Non-Null Count  Dtype \n",
            "---  ------          --------------  ----- \n",
            " 0   tconst          99394 non-null  object\n",
            " 1   titleType       99394 non-null  object\n",
            " 2   primaryTitle    99393 non-null  object\n",
            " 3   originalTitle   99393 non-null  object\n",
            " 4   isAdult         99394 non-null  object\n",
            " 5   startYear       96585 non-null  object\n",
            " 6   endYear         0 non-null      object\n",
            " 7   runtimeMinutes  99394 non-null  object\n",
            " 8   genres          99394 non-null  object\n",
            "dtypes: object(9)\n",
            "memory usage: 7.6+ MB\n",
            "None\n",
            "<class 'pandas.core.frame.DataFrame'>\n",
            "Index: 1472351 entries, 5 to 37526954\n",
            "Data columns (total 8 columns):\n",
            " #   Column           Non-Null Count    Dtype \n",
            "---  ------           --------------    ----- \n",
            " 0   titleId          1472351 non-null  object\n",
            " 1   ordering         1472351 non-null  int64 \n",
            " 2   title            1472349 non-null  object\n",
            " 3   region           1472351 non-null  object\n",
            " 4   language         4168 non-null     object\n",
            " 5   types            984683 non-null   object\n",
            " 6   attributes       47626 non-null    object\n",
            " 7   isOriginalTitle  1471010 non-null  object\n",
            "dtypes: int64(1), object(7)\n",
            "memory usage: 101.1+ MB\n",
            "None\n",
            "<class 'pandas.core.frame.DataFrame'>\n",
            "Index: 512070 entries, 0 to 1360532\n",
            "Data columns (total 3 columns):\n",
            " #   Column         Non-Null Count   Dtype  \n",
            "---  ------         --------------   -----  \n",
            " 0   tconst         512070 non-null  object \n",
            " 1   averageRating  512070 non-null  float64\n",
            " 2   numVotes       512070 non-null  int64  \n",
            "dtypes: float64(1), int64(1), object(1)\n",
            "memory usage: 15.6+ MB\n",
            "None\n"
          ]
        }
      ],
      "source": [
        "print(basics.info())\n",
        "print(akas.info())\n",
        "print(ratings.info())"
      ]
    },
    {
      "cell_type": "code",
      "execution_count": null,
      "metadata": {},
      "outputs": [],
      "source": [
        "## Save current dataframe to file.\n",
        "basics.to_csv(\"title_basics.csv.gz\",compression='gzip',index=False)\n",
        "akas.to_csv(\"title_akas.csv.gz\",compression='gzip',index=False)\n",
        "ratings.to_csv(\"title_ratings.csv.gz\",compression='gzip',index=False)\n"
      ]
    },
    {
      "cell_type": "markdown",
      "metadata": {},
      "source": [
        "Your Stakeholder Wants More Data!"
      ]
    },
    {
      "cell_type": "code",
      "execution_count": 40,
      "metadata": {},
      "outputs": [
        {
          "data": {
            "text/plain": [
              "['title_akas.csv.gz', 'title_basics.csv.gz', 'title_ratings.csv.gz']"
            ]
          },
          "execution_count": 40,
          "metadata": {},
          "output_type": "execute_result"
        }
      ],
      "source": [
        "import os, time,json\n",
        "import tmdbsimple as tmdb \n",
        "from tqdm.notebook import tqdm_notebook\n",
        "FOLDER = \"Data/\"\n",
        "os.makedirs(FOLDER, exist_ok=True)\n",
        "os.listdir(FOLDER)"
      ]
    },
    {
      "cell_type": "code",
      "execution_count": 42,
      "metadata": {},
      "outputs": [],
      "source": [
        "def write_json(new_data, filename): \n",
        "    \"\"\"Appends a list of records (new_data) to a json file (filename). \n",
        "    Adapted from: https://www.geeksforgeeks.org/append-to-json-file-using-python/\"\"\"  \n",
        "    \n",
        "    with open(filename,'r+') as file:\n",
        "        # First we load existing data into a dict.\n",
        "        file_data = json.load(file)\n",
        "        ## Choose extend or append\n",
        "        if (type(new_data) == list) & (type(file_data) == list):\n",
        "            file_data.extend(new_data)\n",
        "        else:\n",
        "             file_data.append(new_data)\n",
        "        # Sets file's current position at offset.\n",
        "        file.seek(0)\n",
        "        # convert back to json.\n",
        "        json.dump(file_data, file)"
      ]
    },
    {
      "cell_type": "code",
      "execution_count": 43,
      "metadata": {},
      "outputs": [],
      "source": [
        "def get_movie_with_rating(movie_id):\n",
        "   # Get the movie object for the current id\n",
        "   movie = tmdb.Movies(movie_id)\n",
        "   # save the .info .releases dictionaries\n",
        "   info = movie.info()\n",
        "   releases = movie.releases()\n",
        "   # Loop through countries in releases\n",
        "   for c in releases['countries']:\n",
        "      # if the country abbreviation==US\n",
        "      if c['iso_3166_1' ] =='US':\n",
        "         ## save a \"certification\" key in the info dict with the certification\n",
        "         info['certification'] = c['certification']\n",
        "   return info"
      ]
    },
    {
      "cell_type": "code",
      "execution_count": 44,
      "metadata": {},
      "outputs": [],
      "source": [
        "# Load in the dataframe from project part 1 as basics:\n",
        "basics = pd.read_csv(r'C:\\Users\\CHBAM\\OneDrive - MMI HOLDINGS LTD\\Documents\\GitHub\\DATA-ENRICHMENT\\Data\\title_basics.csv.gz')"
      ]
    },
    {
      "cell_type": "code",
      "execution_count": 45,
      "metadata": {},
      "outputs": [],
      "source": [
        "YEARS_TO_GET = [2000,2001]\n",
        "errors = [ ]"
      ]
    },
    {
      "cell_type": "code",
      "execution_count": null,
      "metadata": {},
      "outputs": [
        {
          "data": {
            "text/plain": [
              "dict_keys(['api-key', 'API Read Access Token'])"
            ]
          },
          "metadata": {},
          "output_type": "display_data"
        }
      ],
      "source": [
        "import json\n",
        "with open('/Users/CHBAM/.secret/tmdb_api.json', 'r') as f:\n",
        "    login = json.load(f)\n",
        "## Display the keys of the loaded dict\n",
        "login.keys()"
      ]
    },
    {
      "cell_type": "code",
      "execution_count": null,
      "metadata": {},
      "outputs": [],
      "source": [
        "import tmdbsimple as tmdb\n",
        "tmdb.API_KEY =  login['api-key']"
      ]
    },
    {
      "cell_type": "code",
      "execution_count": null,
      "metadata": {},
      "outputs": [
        {
          "data": {
            "text/plain": [
              "{'adult': False,\n",
              " 'backdrop_path': '/9BBTo63ANSmhC4e6r62OJFuK2GL.jpg',\n",
              " 'belongs_to_collection': {'id': 86311,\n",
              "  'name': 'The Avengers Collection',\n",
              "  'poster_path': '/yFSIUVTCvgYrpalUktulvk3Gi5Y.jpg',\n",
              "  'backdrop_path': '/zuW6fOiusv4X9nnW3paHGfXcSll.jpg'},\n",
              " 'budget': 220000000,\n",
              " 'genres': [{'id': 878, 'name': 'Science Fiction'},\n",
              "  {'id': 28, 'name': 'Action'},\n",
              "  {'id': 12, 'name': 'Adventure'}],\n",
              " 'homepage': 'https://www.marvel.com/movies/the-avengers',\n",
              " 'id': 24428,\n",
              " 'imdb_id': 'tt0848228',\n",
              " 'original_language': 'en',\n",
              " 'original_title': 'The Avengers',\n",
              " 'overview': 'When an unexpected enemy emerges and threatens global safety and security, Nick Fury, director of the international peacekeeping agency known as S.H.I.E.L.D., finds himself in need of a team to pull the world back from the brink of disaster. Spanning the globe, a daring recruitment effort begins!',\n",
              " 'popularity': 118.426,\n",
              " 'poster_path': '/RYMX2wcKCBAr24UyPD7xwmjaTn.jpg',\n",
              " 'production_companies': [{'id': 420,\n",
              "   'logo_path': '/hUzeosd33nzE5MCNsZxCGEKTXaQ.png',\n",
              "   'name': 'Marvel Studios',\n",
              "   'origin_country': 'US'}],\n",
              " 'production_countries': [{'iso_3166_1': 'US',\n",
              "   'name': 'United States of America'}],\n",
              " 'release_date': '2012-04-25',\n",
              " 'revenue': 1518815515,\n",
              " 'runtime': 143,\n",
              " 'spoken_languages': [{'english_name': 'English',\n",
              "   'iso_639_1': 'en',\n",
              "   'name': 'English'},\n",
              "  {'english_name': 'Hindi', 'iso_639_1': 'hi', 'name': 'हिन्दी'},\n",
              "  {'english_name': 'Russian', 'iso_639_1': 'ru', 'name': 'Pусский'}],\n",
              " 'status': 'Released',\n",
              " 'tagline': 'Some assembly required.',\n",
              " 'title': 'The Avengers',\n",
              " 'video': False,\n",
              " 'vote_average': 7.711,\n",
              " 'vote_count': 29286,\n",
              " 'certification': 'PG-13'}"
            ]
          },
          "metadata": {},
          "output_type": "display_data"
        }
      ],
      "source": [
        "test_Avengers = get_movie_with_rating(\"tt0848228\") \n",
        "test_Avengers"
      ]
    },
    {
      "cell_type": "code",
      "execution_count": null,
      "metadata": {},
      "outputs": [
        {
          "data": {
            "text/plain": [
              "{'adult': False,\n",
              " 'backdrop_path': '/qom1SZSENdmHFNZBXbtJAU0WTlC.jpg',\n",
              " 'belongs_to_collection': None,\n",
              " 'budget': 29000000,\n",
              " 'genres': [{'id': 10749, 'name': 'Romance'}, {'id': 18, 'name': 'Drama'}],\n",
              " 'homepage': 'http://www.newline.com/properties/notebookthe.html',\n",
              " 'id': 11036,\n",
              " 'imdb_id': 'tt0332280',\n",
              " 'original_language': 'en',\n",
              " 'original_title': 'The Notebook',\n",
              " 'overview': \"An epic love story centered around an older man who reads aloud to a woman with Alzheimer's. From a faded notebook, the old man's words bring to life the story about a couple who is separated by World War II, and is then passionately reunited, seven years later, after they have taken different paths.\",\n",
              " 'popularity': 74.884,\n",
              " 'poster_path': '/rNzQyW4f8B8cQeg7Dgj3n6eT5k9.jpg',\n",
              " 'production_companies': [{'id': 12,\n",
              "   'logo_path': '/mevhneWSqbjU22D1MXNd4H9x0r0.png',\n",
              "   'name': 'New Line Cinema',\n",
              "   'origin_country': 'US'},\n",
              "  {'id': 1565, 'logo_path': None, 'name': 'Avery Pix', 'origin_country': 'US'},\n",
              "  {'id': 2605,\n",
              "   'logo_path': None,\n",
              "   'name': 'Gran Via Productions',\n",
              "   'origin_country': 'US'}],\n",
              " 'production_countries': [{'iso_3166_1': 'US',\n",
              "   'name': 'United States of America'}],\n",
              " 'release_date': '2004-06-25',\n",
              " 'revenue': 115603229,\n",
              " 'runtime': 123,\n",
              " 'spoken_languages': [{'english_name': 'English',\n",
              "   'iso_639_1': 'en',\n",
              "   'name': 'English'}],\n",
              " 'status': 'Released',\n",
              " 'tagline': 'Behind every great love is a great story.',\n",
              " 'title': 'The Notebook',\n",
              " 'video': False,\n",
              " 'vote_average': 7.881,\n",
              " 'vote_count': 10694,\n",
              " 'certification': 'PG-13'}"
            ]
          },
          "metadata": {},
          "output_type": "display_data"
        }
      ],
      "source": [
        "test_Notebook = get_movie_with_rating(\"tt0332280\") \n",
        "test_Notebook"
      ]
    },
    {
      "cell_type": "code",
      "execution_count": 46,
      "metadata": {},
      "outputs": [
        {
          "data": {
            "application/vnd.jupyter.widget-view+json": {
              "model_id": "d9f11ea604154fce839b61ea42ed3a89",
              "version_major": 2,
              "version_minor": 0
            },
            "text/plain": [
              "YEARS:   0%|          | 0/2 [00:00<?, ?it/s]"
            ]
          },
          "metadata": {},
          "output_type": "display_data"
        },
        {
          "data": {
            "application/vnd.jupyter.widget-view+json": {
              "model_id": "7b0c2a687970429fab39a316943dac33",
              "version_major": 2,
              "version_minor": 0
            },
            "text/plain": [
              "Movies from 2000:   0%|          | 0/1769 [00:00<?, ?it/s]"
            ]
          },
          "metadata": {},
          "output_type": "display_data"
        },
        {
          "name": "stdout",
          "output_type": "stream",
          "text": [
            "- Total errors: 270\n"
          ]
        },
        {
          "data": {
            "application/vnd.jupyter.widget-view+json": {
              "model_id": "66b9805d99944ef492de3f4d38807edc",
              "version_major": 2,
              "version_minor": 0
            },
            "text/plain": [
              "Movies from 2001:   0%|          | 0/1858 [00:00<?, ?it/s]"
            ]
          },
          "metadata": {},
          "output_type": "display_data"
        },
        {
          "name": "stdout",
          "output_type": "stream",
          "text": [
            "- Total errors: 551\n"
          ]
        }
      ],
      "source": [
        "for YEAR in tqdm_notebook(YEARS_TO_GET, desc='YEARS', position=0):\n",
        "   #Defining the JSON file to store results for year\n",
        "   JSON_FILE = f'{FOLDER}tmdb_api_results_{YEAR}.json'\n",
        "   # Check if file exists\n",
        "   file_exists = os.path.isfile(JSON_FILE)\n",
        "   # If it does not exist: create it\n",
        "   if file_exists == False:\n",
        "   # save an empty dict with just \"imdb_id\" to the new json file.\n",
        "      with open(JSON_FILE,'w') as f:\n",
        "         json.dump([{'imdb_id':0}],f)\n",
        "   #Saving new year as the current df\n",
        "   df = basics.loc[ basics['startYear']==YEAR].copy()\n",
        "   # saving movie ids to list\n",
        "   movie_ids = df['tconst'].copy()\n",
        "   # Load existing data from json into a dataframe called \"previous_df\"\n",
        "   previous_df = pd.read_json(JSON_FILE)\n",
        "   # filter out any ids that are already in the JSON_FILE\n",
        "   movie_ids_to_get = movie_ids[~movie_ids.isin(previous_df['imdb_id'])]\n",
        "   #Get index and movie id from list\n",
        "   # INNER Loop\n",
        "   for movie_id in tqdm_notebook(movie_ids_to_get,\n",
        "                                 desc=f'Movies from {YEAR}',\n",
        "                                 position=1,\n",
        "                                 leave=True):\n",
        "      try:\n",
        "         # Retrieve then data for the movie id\n",
        "         temp = get_movie_with_rating(movie_id)  \n",
        "         # Append/extend results to existing file using a pre-made function\n",
        "         write_json(temp,JSON_FILE)\n",
        "         # Short 20 ms sleep to prevent overwhelming server\n",
        "         time.sleep(0.02)\n",
        "      except Exception as e:\n",
        "         errors.append([movie_id, e])\n",
        "\n",
        "   final_year_df = pd.read_json(JSON_FILE)\n",
        "   final_year_df.to_csv(f\"{FOLDER}final_tmdb_data_{YEAR}.csv.gz\", compression=\"gzip\", index=False)\n",
        "   print(f\"- Total errors: {len(errors)}\")\n",
        "   \n"
      ]
    }
  ],
  "metadata": {
    "colab": {
      "provenance": []
    },
    "kernelspec": {
      "display_name": "Python 3",
      "name": "python3"
    },
    "language_info": {
      "codemirror_mode": {
        "name": "ipython",
        "version": 3
      },
      "file_extension": ".py",
      "mimetype": "text/x-python",
      "name": "python",
      "nbconvert_exporter": "python",
      "pygments_lexer": "ipython3",
      "version": "3.10.11"
    }
  },
  "nbformat": 4,
  "nbformat_minor": 0
}
