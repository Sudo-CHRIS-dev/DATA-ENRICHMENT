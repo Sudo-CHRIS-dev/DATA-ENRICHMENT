{
  "cells": [
    {
      "cell_type": "code",
      "execution_count": 28,
      "metadata": {
        "id": "TPh_GQWo1yiI"
      },
      "outputs": [],
      "source": [
        "import pandas as pd\n",
        "import numpy as np"
      ]
    },
    {
      "cell_type": "code",
      "execution_count": 29,
      "metadata": {
        "id": "xNcQ66MnxwNY"
      },
      "outputs": [],
      "source": [
        "basics_url=\"https://datasets.imdbws.com/title.basics.tsv.gz\"\n",
        "ratings_url=\"https://datasets.imdbws.com/title.ratings.tsv.gz\"\n",
        "akas_url=\"https://datasets.imdbws.com/title.akas.tsv.gz\"\n",
        "\n",
        "basics = pd.read_csv(basics_url, sep='\\t', low_memory=False)\n",
        "ratings = pd.read_csv(ratings_url, sep='\\t', low_memory=False)\n",
        "akas = pd.read_csv(akas_url, sep='\\t', low_memory=False)"
      ]
    },
    {
      "cell_type": "code",
      "execution_count": 30,
      "metadata": {
        "colab": {
          "base_uri": "https://localhost:8080/"
        },
        "id": "87UoIB4a7i1X",
        "outputId": "95ae4a1f-c6fa-47c3-f9b8-35fb412c3cc9"
      },
      "outputs": [],
      "source": [
        "akas = akas.replace({'\\\\N':np.nan})\n",
        "akas = akas[akas['region'].str.contains('US',case=False,na=False)]"
      ]
    },
    {
      "cell_type": "code",
      "execution_count": 31,
      "metadata": {
        "colab": {
          "base_uri": "https://localhost:8080/",
          "height": 313
        },
        "id": "3o6FU19v1wzf",
        "outputId": "4dab7500-28d5-44ce-958d-3682a4875032"
      },
      "outputs": [],
      "source": [
        "basics = basics.replace({'\\\\N':np.nan})\n",
        "basics = basics.dropna(axis=0, subset=['runtimeMinutes'])\n",
        "basics = basics.dropna(axis=0, subset=['genres'])\n",
        "basics = basics[basics['titleType'].str.contains('Movie',case=False,na=False)]\n",
        "basics = basics.drop(basics[basics['startYear'] < '2000'].index)\n",
        "basics = basics.drop(basics[basics['startYear'] > '2022'].index)\n",
        "basics = basics[~basics['genres'].str.contains('documentary',case=False,na=False)]\n",
        "basics = basics[basics['tconst'].isin(akas['titleId'])]"
      ]
    },
    {
      "cell_type": "code",
      "execution_count": 32,
      "metadata": {},
      "outputs": [],
      "source": [
        "ratings = ratings.replace({'\\\\N':np.nan})\n",
        "ratings = ratings[ratings['tconst'].isin(akas['titleId'])]"
      ]
    },
    {
      "cell_type": "code",
      "execution_count": 33,
      "metadata": {},
      "outputs": [
        {
          "name": "stdout",
          "output_type": "stream",
          "text": [
            "<class 'pandas.core.frame.DataFrame'>\n",
            "Index: 99394 entries, 34800 to 10248547\n",
            "Data columns (total 9 columns):\n",
            " #   Column          Non-Null Count  Dtype \n",
            "---  ------          --------------  ----- \n",
            " 0   tconst          99394 non-null  object\n",
            " 1   titleType       99394 non-null  object\n",
            " 2   primaryTitle    99393 non-null  object\n",
            " 3   originalTitle   99393 non-null  object\n",
            " 4   isAdult         99394 non-null  object\n",
            " 5   startYear       96585 non-null  object\n",
            " 6   endYear         0 non-null      object\n",
            " 7   runtimeMinutes  99394 non-null  object\n",
            " 8   genres          99394 non-null  object\n",
            "dtypes: object(9)\n",
            "memory usage: 7.6+ MB\n",
            "None\n",
            "<class 'pandas.core.frame.DataFrame'>\n",
            "Index: 1472351 entries, 5 to 37526954\n",
            "Data columns (total 8 columns):\n",
            " #   Column           Non-Null Count    Dtype \n",
            "---  ------           --------------    ----- \n",
            " 0   titleId          1472351 non-null  object\n",
            " 1   ordering         1472351 non-null  int64 \n",
            " 2   title            1472349 non-null  object\n",
            " 3   region           1472351 non-null  object\n",
            " 4   language         4168 non-null     object\n",
            " 5   types            984683 non-null   object\n",
            " 6   attributes       47626 non-null    object\n",
            " 7   isOriginalTitle  1471010 non-null  object\n",
            "dtypes: int64(1), object(7)\n",
            "memory usage: 101.1+ MB\n",
            "None\n",
            "<class 'pandas.core.frame.DataFrame'>\n",
            "Index: 512070 entries, 0 to 1360532\n",
            "Data columns (total 3 columns):\n",
            " #   Column         Non-Null Count   Dtype  \n",
            "---  ------         --------------   -----  \n",
            " 0   tconst         512070 non-null  object \n",
            " 1   averageRating  512070 non-null  float64\n",
            " 2   numVotes       512070 non-null  int64  \n",
            "dtypes: float64(1), int64(1), object(1)\n",
            "memory usage: 15.6+ MB\n",
            "None\n"
          ]
        }
      ],
      "source": [
        "print(basics.info())\n",
        "print(akas.info())\n",
        "print(ratings.info())"
      ]
    },
    {
      "cell_type": "code",
      "execution_count": 34,
      "metadata": {},
      "outputs": [],
      "source": [
        "## Save current dataframe to file.\n",
        "basics.to_csv(\"title_basics.csv.gz\",compression='gzip',index=False)\n",
        "akas.to_csv(\"title_akas.csv.gz\",compression='gzip',index=False)\n",
        "ratings.to_csv(\"title_ratings.csv.gz\",compression='gzip',index=False)\n"
      ]
    }
  ],
  "metadata": {
    "colab": {
      "provenance": []
    },
    "kernelspec": {
      "display_name": "Python 3",
      "name": "python3"
    },
    "language_info": {
      "codemirror_mode": {
        "name": "ipython",
        "version": 3
      },
      "file_extension": ".py",
      "mimetype": "text/x-python",
      "name": "python",
      "nbconvert_exporter": "python",
      "pygments_lexer": "ipython3",
      "version": "3.10.11"
    }
  },
  "nbformat": 4,
  "nbformat_minor": 0
}
