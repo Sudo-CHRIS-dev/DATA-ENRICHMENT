{
 "cells": [
  {
   "cell_type": "code",
   "execution_count": 1,
   "metadata": {},
   "outputs": [],
   "source": [
    "import glob\n",
    "import pandas as pd\n",
    "import seaborn as sns\n",
    "import scipy.stats as stats\n",
    "from statsmodels.stats.multicomp import pairwise_tukeyhsd\n",
    "import numpy as np"
   ]
  },
  {
   "cell_type": "code",
   "execution_count": 2,
   "metadata": {},
   "outputs": [
    {
     "data": {
      "text/html": [
       "<div>\n",
       "<style scoped>\n",
       "    .dataframe tbody tr th:only-of-type {\n",
       "        vertical-align: middle;\n",
       "    }\n",
       "\n",
       "    .dataframe tbody tr th {\n",
       "        vertical-align: top;\n",
       "    }\n",
       "\n",
       "    .dataframe thead th {\n",
       "        text-align: right;\n",
       "    }\n",
       "</style>\n",
       "<table border=\"1\" class=\"dataframe\">\n",
       "  <thead>\n",
       "    <tr style=\"text-align: right;\">\n",
       "      <th></th>\n",
       "      <th>adult</th>\n",
       "      <th>backdrop_path</th>\n",
       "      <th>belongs_to_collection</th>\n",
       "      <th>budget</th>\n",
       "      <th>genres</th>\n",
       "      <th>homepage</th>\n",
       "      <th>id</th>\n",
       "      <th>original_language</th>\n",
       "      <th>original_title</th>\n",
       "      <th>overview</th>\n",
       "      <th>...</th>\n",
       "      <th>revenue</th>\n",
       "      <th>runtime</th>\n",
       "      <th>spoken_languages</th>\n",
       "      <th>status</th>\n",
       "      <th>tagline</th>\n",
       "      <th>title</th>\n",
       "      <th>video</th>\n",
       "      <th>vote_average</th>\n",
       "      <th>vote_count</th>\n",
       "      <th>certification</th>\n",
       "    </tr>\n",
       "    <tr>\n",
       "      <th>imdb_id</th>\n",
       "      <th></th>\n",
       "      <th></th>\n",
       "      <th></th>\n",
       "      <th></th>\n",
       "      <th></th>\n",
       "      <th></th>\n",
       "      <th></th>\n",
       "      <th></th>\n",
       "      <th></th>\n",
       "      <th></th>\n",
       "      <th></th>\n",
       "      <th></th>\n",
       "      <th></th>\n",
       "      <th></th>\n",
       "      <th></th>\n",
       "      <th></th>\n",
       "      <th></th>\n",
       "      <th></th>\n",
       "      <th></th>\n",
       "      <th></th>\n",
       "      <th></th>\n",
       "    </tr>\n",
       "  </thead>\n",
       "  <tbody>\n",
       "    <tr>\n",
       "      <th>0</th>\n",
       "      <td>NaN</td>\n",
       "      <td>NaN</td>\n",
       "      <td>NaN</td>\n",
       "      <td>NaN</td>\n",
       "      <td>NaN</td>\n",
       "      <td>NaN</td>\n",
       "      <td>NaN</td>\n",
       "      <td>NaN</td>\n",
       "      <td>NaN</td>\n",
       "      <td>NaN</td>\n",
       "      <td>...</td>\n",
       "      <td>NaN</td>\n",
       "      <td>NaN</td>\n",
       "      <td>NaN</td>\n",
       "      <td>NaN</td>\n",
       "      <td>NaN</td>\n",
       "      <td>NaN</td>\n",
       "      <td>NaN</td>\n",
       "      <td>NaN</td>\n",
       "      <td>NaN</td>\n",
       "      <td>NaN</td>\n",
       "    </tr>\n",
       "    <tr>\n",
       "      <th>tt0113026</th>\n",
       "      <td>0.0</td>\n",
       "      <td>/vMFs7nw6P0bIV1jDsQpxAieAVnH.jpg</td>\n",
       "      <td>NaN</td>\n",
       "      <td>10000000.0</td>\n",
       "      <td>[{'id': 35, 'name': 'Comedy'}, {'id': 10402, '...</td>\n",
       "      <td>NaN</td>\n",
       "      <td>62127.0</td>\n",
       "      <td>en</td>\n",
       "      <td>The Fantasticks</td>\n",
       "      <td>Two rural teens sing and dance their way throu...</td>\n",
       "      <td>...</td>\n",
       "      <td>0.0</td>\n",
       "      <td>86.0</td>\n",
       "      <td>[{'english_name': 'English', 'iso_639_1': 'en'...</td>\n",
       "      <td>Released</td>\n",
       "      <td>Try to remember the first time magic happened</td>\n",
       "      <td>The Fantasticks</td>\n",
       "      <td>0.0</td>\n",
       "      <td>5.500</td>\n",
       "      <td>22.0</td>\n",
       "      <td>NaN</td>\n",
       "    </tr>\n",
       "    <tr>\n",
       "      <th>tt0113092</th>\n",
       "      <td>0.0</td>\n",
       "      <td>NaN</td>\n",
       "      <td>NaN</td>\n",
       "      <td>0.0</td>\n",
       "      <td>[{'id': 878, 'name': 'Science Fiction'}]</td>\n",
       "      <td>NaN</td>\n",
       "      <td>110977.0</td>\n",
       "      <td>en</td>\n",
       "      <td>For the Cause</td>\n",
       "      <td>Earth is in a state of constant war and two co...</td>\n",
       "      <td>...</td>\n",
       "      <td>0.0</td>\n",
       "      <td>100.0</td>\n",
       "      <td>[{'english_name': 'English', 'iso_639_1': 'en'...</td>\n",
       "      <td>Released</td>\n",
       "      <td>The ultimate showdown on a forbidden planet.</td>\n",
       "      <td>For the Cause</td>\n",
       "      <td>0.0</td>\n",
       "      <td>5.450</td>\n",
       "      <td>10.0</td>\n",
       "      <td>NaN</td>\n",
       "    </tr>\n",
       "    <tr>\n",
       "      <th>tt0116391</th>\n",
       "      <td>0.0</td>\n",
       "      <td>NaN</td>\n",
       "      <td>NaN</td>\n",
       "      <td>0.0</td>\n",
       "      <td>[{'id': 18, 'name': 'Drama'}, {'id': 28, 'name...</td>\n",
       "      <td>NaN</td>\n",
       "      <td>442869.0</td>\n",
       "      <td>hi</td>\n",
       "      <td>Gang</td>\n",
       "      <td>After falling prey to underworld, four friends...</td>\n",
       "      <td>...</td>\n",
       "      <td>0.0</td>\n",
       "      <td>152.0</td>\n",
       "      <td>[{'english_name': 'Hindi', 'iso_639_1': 'hi', ...</td>\n",
       "      <td>Released</td>\n",
       "      <td>NaN</td>\n",
       "      <td>Gang</td>\n",
       "      <td>0.0</td>\n",
       "      <td>4.000</td>\n",
       "      <td>1.0</td>\n",
       "      <td>NaN</td>\n",
       "    </tr>\n",
       "    <tr>\n",
       "      <th>tt0118694</th>\n",
       "      <td>0.0</td>\n",
       "      <td>/n4GJFGzsc7NinI1VeGDXIcQjtU2.jpg</td>\n",
       "      <td>NaN</td>\n",
       "      <td>150000.0</td>\n",
       "      <td>[{'id': 18, 'name': 'Drama'}, {'id': 10749, 'n...</td>\n",
       "      <td>NaN</td>\n",
       "      <td>843.0</td>\n",
       "      <td>cn</td>\n",
       "      <td>花樣年華</td>\n",
       "      <td>Two neighbors become intimate after discoverin...</td>\n",
       "      <td>...</td>\n",
       "      <td>14204632.0</td>\n",
       "      <td>99.0</td>\n",
       "      <td>[{'english_name': 'Cantonese', 'iso_639_1': 'c...</td>\n",
       "      <td>Released</td>\n",
       "      <td>Feel the heat, keep the feeling burning, let t...</td>\n",
       "      <td>In the Mood for Love</td>\n",
       "      <td>0.0</td>\n",
       "      <td>8.101</td>\n",
       "      <td>2369.0</td>\n",
       "      <td>PG</td>\n",
       "    </tr>\n",
       "    <tr>\n",
       "      <th>...</th>\n",
       "      <td>...</td>\n",
       "      <td>...</td>\n",
       "      <td>...</td>\n",
       "      <td>...</td>\n",
       "      <td>...</td>\n",
       "      <td>...</td>\n",
       "      <td>...</td>\n",
       "      <td>...</td>\n",
       "      <td>...</td>\n",
       "      <td>...</td>\n",
       "      <td>...</td>\n",
       "      <td>...</td>\n",
       "      <td>...</td>\n",
       "      <td>...</td>\n",
       "      <td>...</td>\n",
       "      <td>...</td>\n",
       "      <td>...</td>\n",
       "      <td>...</td>\n",
       "      <td>...</td>\n",
       "      <td>...</td>\n",
       "      <td>...</td>\n",
       "    </tr>\n",
       "    <tr>\n",
       "      <th>tt9906644</th>\n",
       "      <td>0.0</td>\n",
       "      <td>/htoReVItKtolso5VJqFqJDBaOwm.jpg</td>\n",
       "      <td>NaN</td>\n",
       "      <td>0.0</td>\n",
       "      <td>[{'id': 35, 'name': 'Comedy'}, {'id': 18, 'nam...</td>\n",
       "      <td>NaN</td>\n",
       "      <td>635903.0</td>\n",
       "      <td>ml</td>\n",
       "      <td>മനോഹരം</td>\n",
       "      <td>Manoharan is a poster artist struggling to fin...</td>\n",
       "      <td>...</td>\n",
       "      <td>0.0</td>\n",
       "      <td>122.0</td>\n",
       "      <td>[{'english_name': 'Malayalam', 'iso_639_1': 'm...</td>\n",
       "      <td>Released</td>\n",
       "      <td>NaN</td>\n",
       "      <td>Manoharam</td>\n",
       "      <td>0.0</td>\n",
       "      <td>6.042</td>\n",
       "      <td>12.0</td>\n",
       "      <td>NaN</td>\n",
       "    </tr>\n",
       "    <tr>\n",
       "      <th>tt9913660</th>\n",
       "      <td>0.0</td>\n",
       "      <td>/z6YpkQiWLnRKl5yQD9dSiPDFWN.jpg</td>\n",
       "      <td>NaN</td>\n",
       "      <td>0.0</td>\n",
       "      <td>[{'id': 18, 'name': 'Drama'}]</td>\n",
       "      <td>NaN</td>\n",
       "      <td>711261.0</td>\n",
       "      <td>en</td>\n",
       "      <td>No Apology</td>\n",
       "      <td>When a group of women struggle to deal with th...</td>\n",
       "      <td>...</td>\n",
       "      <td>0.0</td>\n",
       "      <td>102.0</td>\n",
       "      <td>[{'english_name': 'English', 'iso_639_1': 'en'...</td>\n",
       "      <td>Released</td>\n",
       "      <td>NaN</td>\n",
       "      <td>No Apology</td>\n",
       "      <td>0.0</td>\n",
       "      <td>8.000</td>\n",
       "      <td>1.0</td>\n",
       "      <td>NaN</td>\n",
       "    </tr>\n",
       "    <tr>\n",
       "      <th>tt9913872</th>\n",
       "      <td>0.0</td>\n",
       "      <td>/a0kySBmMZ77AqmNA3pDu45GsbCp.jpg</td>\n",
       "      <td>NaN</td>\n",
       "      <td>0.0</td>\n",
       "      <td>[{'id': 27, 'name': 'Horror'}]</td>\n",
       "      <td>NaN</td>\n",
       "      <td>800030.0</td>\n",
       "      <td>es</td>\n",
       "      <td>De la piel del Diablo</td>\n",
       "      <td>NaN</td>\n",
       "      <td>...</td>\n",
       "      <td>0.0</td>\n",
       "      <td>0.0</td>\n",
       "      <td>[]</td>\n",
       "      <td>Released</td>\n",
       "      <td>NaN</td>\n",
       "      <td>De la piel del Diablo</td>\n",
       "      <td>0.0</td>\n",
       "      <td>8.200</td>\n",
       "      <td>3.0</td>\n",
       "      <td>NaN</td>\n",
       "    </tr>\n",
       "    <tr>\n",
       "      <th>tt9914942</th>\n",
       "      <td>0.0</td>\n",
       "      <td>/tjHUeULyw2vtS1DXFp0OHfhUzRX.jpg</td>\n",
       "      <td>NaN</td>\n",
       "      <td>0.0</td>\n",
       "      <td>[{'id': 18, 'name': 'Drama'}, {'id': 10749, 'n...</td>\n",
       "      <td>NaN</td>\n",
       "      <td>598553.0</td>\n",
       "      <td>ca</td>\n",
       "      <td>La vida sense la Sara Amat</td>\n",
       "      <td>Pep, a 13-year-old boy, is in love with a girl...</td>\n",
       "      <td>...</td>\n",
       "      <td>0.0</td>\n",
       "      <td>71.0</td>\n",
       "      <td>[{'english_name': 'Catalan', 'iso_639_1': 'ca'...</td>\n",
       "      <td>Released</td>\n",
       "      <td>NaN</td>\n",
       "      <td>Life without Sara Amat</td>\n",
       "      <td>0.0</td>\n",
       "      <td>7.700</td>\n",
       "      <td>8.0</td>\n",
       "      <td>NaN</td>\n",
       "    </tr>\n",
       "    <tr>\n",
       "      <th>tt9915872</th>\n",
       "      <td>0.0</td>\n",
       "      <td>NaN</td>\n",
       "      <td>NaN</td>\n",
       "      <td>0.0</td>\n",
       "      <td>[]</td>\n",
       "      <td>NaN</td>\n",
       "      <td>897433.0</td>\n",
       "      <td>en</td>\n",
       "      <td>The Last White Witch</td>\n",
       "      <td>One day, a charming and mystical girl, Fuka, a...</td>\n",
       "      <td>...</td>\n",
       "      <td>0.0</td>\n",
       "      <td>97.0</td>\n",
       "      <td>[]</td>\n",
       "      <td>Released</td>\n",
       "      <td>NaN</td>\n",
       "      <td>The Last White Witch</td>\n",
       "      <td>0.0</td>\n",
       "      <td>0.000</td>\n",
       "      <td>0.0</td>\n",
       "      <td>NaN</td>\n",
       "    </tr>\n",
       "  </tbody>\n",
       "</table>\n",
       "<p>41202 rows × 25 columns</p>\n",
       "</div>"
      ],
      "text/plain": [
       "           adult                     backdrop_path belongs_to_collection  \\\n",
       "imdb_id                                                                    \n",
       "0            NaN                               NaN                   NaN   \n",
       "tt0113026    0.0  /vMFs7nw6P0bIV1jDsQpxAieAVnH.jpg                   NaN   \n",
       "tt0113092    0.0                               NaN                   NaN   \n",
       "tt0116391    0.0                               NaN                   NaN   \n",
       "tt0118694    0.0  /n4GJFGzsc7NinI1VeGDXIcQjtU2.jpg                   NaN   \n",
       "...          ...                               ...                   ...   \n",
       "tt9906644    0.0  /htoReVItKtolso5VJqFqJDBaOwm.jpg                   NaN   \n",
       "tt9913660    0.0   /z6YpkQiWLnRKl5yQD9dSiPDFWN.jpg                   NaN   \n",
       "tt9913872    0.0  /a0kySBmMZ77AqmNA3pDu45GsbCp.jpg                   NaN   \n",
       "tt9914942    0.0  /tjHUeULyw2vtS1DXFp0OHfhUzRX.jpg                   NaN   \n",
       "tt9915872    0.0                               NaN                   NaN   \n",
       "\n",
       "               budget                                             genres  \\\n",
       "imdb_id                                                                    \n",
       "0                 NaN                                                NaN   \n",
       "tt0113026  10000000.0  [{'id': 35, 'name': 'Comedy'}, {'id': 10402, '...   \n",
       "tt0113092         0.0           [{'id': 878, 'name': 'Science Fiction'}]   \n",
       "tt0116391         0.0  [{'id': 18, 'name': 'Drama'}, {'id': 28, 'name...   \n",
       "tt0118694    150000.0  [{'id': 18, 'name': 'Drama'}, {'id': 10749, 'n...   \n",
       "...               ...                                                ...   \n",
       "tt9906644         0.0  [{'id': 35, 'name': 'Comedy'}, {'id': 18, 'nam...   \n",
       "tt9913660         0.0                      [{'id': 18, 'name': 'Drama'}]   \n",
       "tt9913872         0.0                     [{'id': 27, 'name': 'Horror'}]   \n",
       "tt9914942         0.0  [{'id': 18, 'name': 'Drama'}, {'id': 10749, 'n...   \n",
       "tt9915872         0.0                                                 []   \n",
       "\n",
       "          homepage        id original_language              original_title  \\\n",
       "imdb_id                                                                      \n",
       "0              NaN       NaN               NaN                         NaN   \n",
       "tt0113026      NaN   62127.0                en             The Fantasticks   \n",
       "tt0113092      NaN  110977.0                en               For the Cause   \n",
       "tt0116391      NaN  442869.0                hi                        Gang   \n",
       "tt0118694      NaN     843.0                cn                        花樣年華   \n",
       "...            ...       ...               ...                         ...   \n",
       "tt9906644      NaN  635903.0                ml                      മനോഹരം   \n",
       "tt9913660      NaN  711261.0                en                  No Apology   \n",
       "tt9913872      NaN  800030.0                es       De la piel del Diablo   \n",
       "tt9914942      NaN  598553.0                ca  La vida sense la Sara Amat   \n",
       "tt9915872      NaN  897433.0                en        The Last White Witch   \n",
       "\n",
       "                                                    overview  ...     revenue  \\\n",
       "imdb_id                                                       ...               \n",
       "0                                                        NaN  ...         NaN   \n",
       "tt0113026  Two rural teens sing and dance their way throu...  ...         0.0   \n",
       "tt0113092  Earth is in a state of constant war and two co...  ...         0.0   \n",
       "tt0116391  After falling prey to underworld, four friends...  ...         0.0   \n",
       "tt0118694  Two neighbors become intimate after discoverin...  ...  14204632.0   \n",
       "...                                                      ...  ...         ...   \n",
       "tt9906644  Manoharan is a poster artist struggling to fin...  ...         0.0   \n",
       "tt9913660  When a group of women struggle to deal with th...  ...         0.0   \n",
       "tt9913872                                                NaN  ...         0.0   \n",
       "tt9914942  Pep, a 13-year-old boy, is in love with a girl...  ...         0.0   \n",
       "tt9915872  One day, a charming and mystical girl, Fuka, a...  ...         0.0   \n",
       "\n",
       "          runtime                                   spoken_languages  \\\n",
       "imdb_id                                                                \n",
       "0             NaN                                                NaN   \n",
       "tt0113026    86.0  [{'english_name': 'English', 'iso_639_1': 'en'...   \n",
       "tt0113092   100.0  [{'english_name': 'English', 'iso_639_1': 'en'...   \n",
       "tt0116391   152.0  [{'english_name': 'Hindi', 'iso_639_1': 'hi', ...   \n",
       "tt0118694    99.0  [{'english_name': 'Cantonese', 'iso_639_1': 'c...   \n",
       "...           ...                                                ...   \n",
       "tt9906644   122.0  [{'english_name': 'Malayalam', 'iso_639_1': 'm...   \n",
       "tt9913660   102.0  [{'english_name': 'English', 'iso_639_1': 'en'...   \n",
       "tt9913872     0.0                                                 []   \n",
       "tt9914942    71.0  [{'english_name': 'Catalan', 'iso_639_1': 'ca'...   \n",
       "tt9915872    97.0                                                 []   \n",
       "\n",
       "             status                                            tagline  \\\n",
       "imdb_id                                                                  \n",
       "0               NaN                                                NaN   \n",
       "tt0113026  Released      Try to remember the first time magic happened   \n",
       "tt0113092  Released       The ultimate showdown on a forbidden planet.   \n",
       "tt0116391  Released                                                NaN   \n",
       "tt0118694  Released  Feel the heat, keep the feeling burning, let t...   \n",
       "...             ...                                                ...   \n",
       "tt9906644  Released                                                NaN   \n",
       "tt9913660  Released                                                NaN   \n",
       "tt9913872  Released                                                NaN   \n",
       "tt9914942  Released                                                NaN   \n",
       "tt9915872  Released                                                NaN   \n",
       "\n",
       "                            title  video vote_average vote_count certification  \n",
       "imdb_id                                                                         \n",
       "0                             NaN    NaN          NaN        NaN           NaN  \n",
       "tt0113026         The Fantasticks    0.0        5.500       22.0           NaN  \n",
       "tt0113092           For the Cause    0.0        5.450       10.0           NaN  \n",
       "tt0116391                    Gang    0.0        4.000        1.0           NaN  \n",
       "tt0118694    In the Mood for Love    0.0        8.101     2369.0            PG  \n",
       "...                           ...    ...          ...        ...           ...  \n",
       "tt9906644               Manoharam    0.0        6.042       12.0           NaN  \n",
       "tt9913660              No Apology    0.0        8.000        1.0           NaN  \n",
       "tt9913872   De la piel del Diablo    0.0        8.200        3.0           NaN  \n",
       "tt9914942  Life without Sara Amat    0.0        7.700        8.0           NaN  \n",
       "tt9915872    The Last White Witch    0.0        0.000        0.0           NaN  \n",
       "\n",
       "[41202 rows x 25 columns]"
      ]
     },
     "execution_count": 2,
     "metadata": {},
     "output_type": "execute_result"
    }
   ],
   "source": [
    "q = \"Data/final_tmdb_data_*.csv.gz\"\n",
    "chunked_files = sorted(glob.glob(q))\n",
    "\n",
    "## Loading all files as df and appending to a list\n",
    "df_list = []\n",
    "for file in chunked_files:\n",
    "    temp_df = pd.read_csv(file, index_col=0)\n",
    "    df_list.append(temp_df)\n",
    "    \n",
    "## Concatenating the list of dfs into 1 combined\n",
    "df_combined = pd.concat(df_list)\n",
    "df_combined"
   ]
  },
  {
   "cell_type": "code",
   "execution_count": 3,
   "metadata": {},
   "outputs": [
    {
     "name": "stdout",
     "output_type": "stream",
     "text": [
      "<class 'pandas.core.frame.DataFrame'>\n",
      "Index: 41202 entries, 0 to tt9915872\n",
      "Data columns (total 25 columns):\n",
      " #   Column                 Non-Null Count  Dtype  \n",
      "---  ------                 --------------  -----  \n",
      " 0   adult                  41190 non-null  float64\n",
      " 1   backdrop_path          27396 non-null  object \n",
      " 2   belongs_to_collection  2817 non-null   object \n",
      " 3   budget                 41190 non-null  float64\n",
      " 4   genres                 41190 non-null  object \n",
      " 5   homepage               10293 non-null  object \n",
      " 6   id                     41190 non-null  float64\n",
      " 7   original_language      41190 non-null  object \n",
      " 8   original_title         41190 non-null  object \n",
      " 9   overview               40348 non-null  object \n",
      " 10  popularity             41190 non-null  float64\n",
      " 11  poster_path            38312 non-null  object \n",
      " 12  production_companies   41190 non-null  object \n",
      " 13  production_countries   41190 non-null  object \n",
      " 14  release_date           40543 non-null  object \n",
      " 15  revenue                41190 non-null  float64\n",
      " 16  runtime                41190 non-null  float64\n",
      " 17  spoken_languages       41190 non-null  object \n",
      " 18  status                 41190 non-null  object \n",
      " 19  tagline                15327 non-null  object \n",
      " 20  title                  41190 non-null  object \n",
      " 21  video                  41190 non-null  float64\n",
      " 22  vote_average           41190 non-null  float64\n",
      " 23  vote_count             41190 non-null  float64\n",
      " 24  certification          9094 non-null   object \n",
      "dtypes: float64(9), object(16)\n",
      "memory usage: 8.2+ MB\n"
     ]
    }
   ],
   "source": [
    "df_combined.info()"
   ]
  },
  {
   "cell_type": "code",
   "execution_count": 4,
   "metadata": {},
   "outputs": [],
   "source": [
    "df_combined.dropna(inplace=True)"
   ]
  },
  {
   "cell_type": "markdown",
   "metadata": {},
   "source": [
    "# Hypothesis Test: The stakeholder's first question is: does the MPAA rating of a movie (G/PG/PG-13/R) affect how much revenue the movie generates?"
   ]
  },
  {
   "cell_type": "markdown",
   "metadata": {},
   "source": [
    "State your Null Hypothesis and Alternative Hypothesis\n",
    "\n",
    "* Null Hypothesis \n",
    "   - The MPAA rating makes no difference to revenue\n",
    "* Alternative Hypothesis \n",
    "   - The revenue is effected by the MPAA rating"
   ]
  },
  {
   "cell_type": "code",
   "execution_count": 5,
   "metadata": {},
   "outputs": [
    {
     "data": {
      "text/plain": [
       "certification\n",
       "PG-13    179\n",
       "R        151\n",
       "PG       114\n",
       "NR        32\n",
       "G         25\n",
       "NC-17      1\n",
       "Name: count, dtype: int64"
      ]
     },
     "execution_count": 5,
     "metadata": {},
     "output_type": "execute_result"
    }
   ],
   "source": [
    "df_combined['certification'].value_counts()"
   ]
  },
  {
   "cell_type": "code",
   "execution_count": 6,
   "metadata": {},
   "outputs": [],
   "source": [
    "df_combined = df_combined[df_combined.certification != 'NC-17']"
   ]
  },
  {
   "cell_type": "code",
   "execution_count": 7,
   "metadata": {},
   "outputs": [
    {
     "data": {
      "text/plain": [
       "dict_keys(['PG-13', 'R', 'G', 'PG', 'NR'])"
      ]
     },
     "execution_count": 7,
     "metadata": {},
     "output_type": "execute_result"
    }
   ],
   "source": [
    "groups = {}\n",
    "## Loop through all unique categories\n",
    "for i in df_combined['certification'].unique():\n",
    "    ## Get series for group and rename\n",
    "    data = df_combined.loc[df_combined['certification']==i,'revenue'].copy()\n",
    "    \n",
    "    # save into the dictionary\n",
    "    groups[i] = data\n",
    "groups.keys()"
   ]
  },
  {
   "cell_type": "code",
   "execution_count": 8,
   "metadata": {},
   "outputs": [
    {
     "data": {
      "text/html": [
       "<div>\n",
       "<style scoped>\n",
       "    .dataframe tbody tr th:only-of-type {\n",
       "        vertical-align: middle;\n",
       "    }\n",
       "\n",
       "    .dataframe tbody tr th {\n",
       "        vertical-align: top;\n",
       "    }\n",
       "\n",
       "    .dataframe thead th {\n",
       "        text-align: right;\n",
       "    }\n",
       "</style>\n",
       "<table border=\"1\" class=\"dataframe\">\n",
       "  <thead>\n",
       "    <tr style=\"text-align: right;\">\n",
       "      <th></th>\n",
       "      <th>n</th>\n",
       "      <th>p</th>\n",
       "      <th>test stat</th>\n",
       "    </tr>\n",
       "  </thead>\n",
       "  <tbody>\n",
       "    <tr>\n",
       "      <th>PG-13</th>\n",
       "      <td>179.0</td>\n",
       "      <td>1.533020e-14</td>\n",
       "      <td>63.617903</td>\n",
       "    </tr>\n",
       "    <tr>\n",
       "      <th>R</th>\n",
       "      <td>151.0</td>\n",
       "      <td>6.181034e-18</td>\n",
       "      <td>79.250092</td>\n",
       "    </tr>\n",
       "    <tr>\n",
       "      <th>G</th>\n",
       "      <td>25.0</td>\n",
       "      <td>2.892422e-05</td>\n",
       "      <td>20.901663</td>\n",
       "    </tr>\n",
       "    <tr>\n",
       "      <th>PG</th>\n",
       "      <td>114.0</td>\n",
       "      <td>8.753674e-08</td>\n",
       "      <td>32.502415</td>\n",
       "    </tr>\n",
       "    <tr>\n",
       "      <th>NR</th>\n",
       "      <td>32.0</td>\n",
       "      <td>4.373154e-11</td>\n",
       "      <td>47.705903</td>\n",
       "    </tr>\n",
       "  </tbody>\n",
       "</table>\n",
       "</div>"
      ],
      "text/plain": [
       "           n             p  test stat\n",
       "PG-13  179.0  1.533020e-14  63.617903\n",
       "R      151.0  6.181034e-18  79.250092\n",
       "G       25.0  2.892422e-05  20.901663\n",
       "PG     114.0  8.753674e-08  32.502415\n",
       "NR      32.0  4.373154e-11  47.705903"
      ]
     },
     "execution_count": 8,
     "metadata": {},
     "output_type": "execute_result"
    }
   ],
   "source": [
    "## Running normal test on each group and confirming there are >20 in each group\n",
    "norm_results = {}\n",
    "for i, data in groups.items():\n",
    "    stat, p = stats.normaltest(data)\n",
    "    ## save the p val, test statistic, and the size of the group\n",
    "    norm_results[i] = {'n': len(data),\n",
    "                             'p':p,\n",
    "                             'test stat':stat,}\n",
    "## convert to a dataframe\n",
    "norm_results_df = pd.DataFrame(norm_results).T\n",
    "norm_results_df"
   ]
  },
  {
   "cell_type": "code",
   "execution_count": 9,
   "metadata": {},
   "outputs": [
    {
     "data": {
      "text/plain": [
       "LeveneResult(statistic=21.09336197347511, pvalue=4.454702564209656e-16)"
      ]
     },
     "execution_count": 9,
     "metadata": {},
     "output_type": "execute_result"
    }
   ],
   "source": [
    "# with the * operator \n",
    "stats.levene(*groups.values())"
   ]
  },
  {
   "cell_type": "markdown",
   "metadata": {},
   "source": [
    "## Performed hypothesis test got a p-value (NOT assumption test)"
   ]
  },
  {
   "cell_type": "code",
   "execution_count": 10,
   "metadata": {},
   "outputs": [
    {
     "data": {
      "text/plain": [
       "F_onewayResult(statistic=22.861766994108493, pvalue=2.3602992838233285e-17)"
      ]
     },
     "execution_count": 10,
     "metadata": {},
     "output_type": "execute_result"
    }
   ],
   "source": [
    "result = stats.f_oneway( *groups.values())\n",
    "result"
   ]
  },
  {
   "cell_type": "code",
   "execution_count": 11,
   "metadata": {},
   "outputs": [
    {
     "data": {
      "text/html": [
       "<table class=\"simpletable\">\n",
       "<caption>Multiple Comparison of Means - Tukey HSD, FWER=0.05</caption>\n",
       "<tr>\n",
       "  <th>group1</th> <th>group2</th>    <th>meandiff</th>      <th>p-adj</th>      <th>lower</th>           <th>upper</th>      <th>reject</th>\n",
       "</tr>\n",
       "<tr>\n",
       "     <td>G</td>     <td>NR</td>   <td>-159249457.6012</td> <td>0.4482</td> <td>-419006337.1413</td> <td>100507421.9388</td>   <td>False</td>\n",
       "</tr>\n",
       "<tr>\n",
       "     <td>G</td>     <td>PG</td>   <td>151575331.2414</td>  <td>0.3022</td> <td>-63336138.5069</td>  <td>366486800.9898</td>   <td>False</td>\n",
       "</tr>\n",
       "<tr>\n",
       "     <td>G</td>    <td>PG-13</td> <td>291476195.7415</td>  <td>0.0013</td>  <td>83701245.0028</td>  <td>499251146.4801</td>   <td>True</td> \n",
       "</tr>\n",
       "<tr>\n",
       "     <td>G</td>      <td>R</td>   <td>-28298675.5253</td>  <td>0.9961</td> <td>-238421137.1739</td> <td>181823786.1233</td>   <td>False</td>\n",
       "</tr>\n",
       "<tr>\n",
       "    <td>NR</td>     <td>PG</td>   <td>310824788.8427</td>  <td>0.0001</td> <td>116143757.9951</td>  <td>505505819.6902</td>   <td>True</td> \n",
       "</tr>\n",
       "<tr>\n",
       "    <td>NR</td>    <td>PG-13</td> <td>450725653.3427</td>    <td>0.0</td>  <td>263952544.7406</td>  <td>637498761.9449</td>   <td>True</td> \n",
       "</tr>\n",
       "<tr>\n",
       "    <td>NR</td>      <td>R</td>    <td>130950782.076</td>  <td>0.3223</td> <td>-58430349.0638</td>  <td>320331913.2157</td>   <td>False</td>\n",
       "</tr>\n",
       "<tr>\n",
       "    <td>PG</td>    <td>PG-13</td>   <td>139900864.5</td>   <td>0.0096</td>  <td>23292556.6575</td>  <td>256509172.3426</td>   <td>True</td> \n",
       "</tr>\n",
       "<tr>\n",
       "    <td>PG</td>      <td>R</td>   <td>-179874006.7667</td> <td>0.0005</td> <td>-300615533.1475</td> <td>-59132480.3859</td>   <td>True</td> \n",
       "</tr>\n",
       "<tr>\n",
       "   <td>PG-13</td>    <td>R</td>   <td>-319774871.2668</td>   <td>0.0</td>  <td>-427301642.4346</td> <td>-212248100.0989</td>  <td>True</td> \n",
       "</tr>\n",
       "</table>"
      ],
      "text/latex": [
       "\\begin{center}\n",
       "\\begin{tabular}{ccccccc}\n",
       "\\toprule\n",
       "\\textbf{group1} & \\textbf{group2} & \\textbf{meandiff} & \\textbf{p-adj} &  \\textbf{lower} &  \\textbf{upper} & \\textbf{reject}  \\\\\n",
       "\\midrule\n",
       "       G        &        NR       &  -159249457.6012  &     0.4482     & -419006337.1413 &  100507421.9388 &      False       \\\\\n",
       "       G        &        PG       &   151575331.2414  &     0.3022     &  -63336138.5069 &  366486800.9898 &      False       \\\\\n",
       "       G        &      PG-13      &   291476195.7415  &     0.0013     &  83701245.0028  &  499251146.4801 &       True       \\\\\n",
       "       G        &        R        &   -28298675.5253  &     0.9961     & -238421137.1739 &  181823786.1233 &      False       \\\\\n",
       "       NR       &        PG       &   310824788.8427  &     0.0001     &  116143757.9951 &  505505819.6902 &       True       \\\\\n",
       "       NR       &      PG-13      &   450725653.3427  &      0.0       &  263952544.7406 &  637498761.9449 &       True       \\\\\n",
       "       NR       &        R        &   130950782.076   &     0.3223     &  -58430349.0638 &  320331913.2157 &      False       \\\\\n",
       "       PG       &      PG-13      &    139900864.5    &     0.0096     &  23292556.6575  &  256509172.3426 &       True       \\\\\n",
       "       PG       &        R        &  -179874006.7667  &     0.0005     & -300615533.1475 &  -59132480.3859 &       True       \\\\\n",
       "     PG-13      &        R        &  -319774871.2668  &      0.0       & -427301642.4346 & -212248100.0989 &       True       \\\\\n",
       "\\bottomrule\n",
       "\\end{tabular}\n",
       "%\\caption{Multiple Comparison of Means - Tukey HSD, FWER=0.05}\n",
       "\\end{center}"
      ],
      "text/plain": [
       "<class 'statsmodels.iolib.table.SimpleTable'>"
      ]
     },
     "execution_count": 11,
     "metadata": {},
     "output_type": "execute_result"
    }
   ],
   "source": [
    "values = df_combined['revenue']\n",
    "labels = df_combined['certification']\n",
    "\n",
    "## perform tukey's multiple comparison test and display the summary\n",
    "tukeys_results = pairwise_tukeyhsd(values,labels)\n",
    "tukeys_results.summary()"
   ]
  },
  {
   "cell_type": "markdown",
   "metadata": {},
   "source": [
    "Due to the P-value being lesser than the significance level of alpha \"0.05\", we can safely say that we will have to reject the Null hypothesis, the Null hypothesis being that The MPAA rating makes no difference to revenue. Below you will find An appropriate visualization to compare the groups means is included."
   ]
  },
  {
   "cell_type": "code",
   "execution_count": 12,
   "metadata": {},
   "outputs": [
    {
     "data": {
      "image/png": "[encoded data removed]",
      "text/plain": [
       "<Figure size 640x480 with 1 Axes>"
      ]
     },
     "metadata": {},
     "output_type": "display_data"
    }
   ],
   "source": [
    "sns.barplot(data=df_combined, x='certification',y='revenue');"
   ]
  },
  {
   "cell_type": "markdown",
   "metadata": {},
   "source": [
    "# ///////////////////////////////////////////////////////////////////////////////////////////////////"
   ]
  },
  {
   "cell_type": "markdown",
   "metadata": {},
   "source": [
    "# Hypothesis Test: Do movies that contain english have a higher revenue?"
   ]
  },
  {
   "cell_type": "markdown",
   "metadata": {},
   "source": [
    "State your Null Hypothesis and Alternative Hypothesis\n",
    "\n",
    "* Null Hypothesis \n",
    "   - The Movie language will not effect revenue\n",
    "* Alternative Hypothesis \n",
    "   - The revenue is effected by the langauge of the movie"
   ]
  },
  {
   "cell_type": "markdown",
   "metadata": {},
   "source": [
    "## Separate the data into two groups"
   ]
  },
  {
   "cell_type": "code",
   "execution_count": 13,
   "metadata": {},
   "outputs": [],
   "source": [
    "# Filtering out movies that are english and not\n",
    "english_df = df_combined.loc[df_combined['spoken_languages'].str.contains('English')].copy()\n",
    "non_english_df = df_combined.loc[~df_combined['spoken_languages'].str.contains('English')].copy()\n",
    "english_rev_df = english_df['revenue']\n",
    "non_english_rev_df = non_english_df['revenue']"
   ]
  },
  {
   "cell_type": "markdown",
   "metadata": {},
   "source": [
    "### Removed outliers from any non-normal distributions."
   ]
  },
  {
   "cell_type": "code",
   "execution_count": 14,
   "metadata": {},
   "outputs": [
    {
     "data": {
      "text/plain": [
       "7"
      ]
     },
     "execution_count": 14,
     "metadata": {},
     "output_type": "execute_result"
    }
   ],
   "source": [
    "# check outliers from english revenue\n",
    "zscores= stats.zscore(english_rev_df)\n",
    "outliers = abs(zscores)>3\n",
    "np.sum(outliers)"
   ]
  },
  {
   "cell_type": "code",
   "execution_count": 15,
   "metadata": {},
   "outputs": [],
   "source": [
    "# remove outliers from english revenue\n",
    "english_rev_df = english_rev_df[(np.abs(stats.zscore(english_rev_df)) < 3)]"
   ]
  },
  {
   "cell_type": "code",
   "execution_count": 16,
   "metadata": {},
   "outputs": [
    {
     "data": {
      "text/plain": [
       "1"
      ]
     },
     "execution_count": 16,
     "metadata": {},
     "output_type": "execute_result"
    }
   ],
   "source": [
    "# check outliers from non english revenue\n",
    "zscores= stats.zscore(non_english_rev_df)\n",
    "outliers = abs(zscores)>3\n",
    "np.sum(outliers)"
   ]
  },
  {
   "cell_type": "code",
   "execution_count": 17,
   "metadata": {},
   "outputs": [],
   "source": [
    "# remove outliers from non english revenue\n",
    "non_english_rev_df = non_english_rev_df[(np.abs(stats.zscore(non_english_rev_df)) < 3)]"
   ]
  },
  {
   "cell_type": "markdown",
   "metadata": {},
   "source": [
    "### Tested assumption of normality "
   ]
  },
  {
   "cell_type": "code",
   "execution_count": 18,
   "metadata": {},
   "outputs": [
    {
     "data": {
      "text/plain": [
       "NormaltestResult(statistic=93.02044480975704, pvalue=6.322182924677828e-21)"
      ]
     },
     "execution_count": 18,
     "metadata": {},
     "output_type": "execute_result"
    }
   ],
   "source": [
    "# test the english group for normality\n",
    "result_english_rev_df = stats.normaltest(english_rev_df)\n",
    "result_english_rev_df"
   ]
  },
  {
   "cell_type": "code",
   "execution_count": 19,
   "metadata": {},
   "outputs": [
    {
     "data": {
      "text/plain": [
       "NormaltestResult(statistic=18.470353586684155, pvalue=9.7546946494094e-05)"
      ]
     },
     "execution_count": 19,
     "metadata": {},
     "output_type": "execute_result"
    }
   ],
   "source": [
    "# test the non-english group for normality\n",
    "result_non_english_rev_df = stats.normaltest(non_english_rev_df)\n",
    "result_non_english_rev_df"
   ]
  },
  {
   "cell_type": "markdown",
   "metadata": {},
   "source": [
    "### Tested assumption of equal variance "
   ]
  },
  {
   "cell_type": "code",
   "execution_count": 20,
   "metadata": {},
   "outputs": [
    {
     "name": "stdout",
     "output_type": "stream",
     "text": [
      "1.1529263332847683e+17 681700141283518.9\n"
     ]
    },
    {
     "data": {
      "text/plain": [
       "LeveneResult(statistic=38.905103553585704, pvalue=9.608620901009383e-10)"
      ]
     },
     "execution_count": 20,
     "metadata": {},
     "output_type": "execute_result"
    }
   ],
   "source": [
    "# Test for equal variance\n",
    "print(np.var(english_rev_df), np.var(non_english_rev_df))\n",
    "result = stats.levene(english_rev_df, non_english_rev_df)\n",
    "result"
   ]
  },
  {
   "cell_type": "markdown",
   "metadata": {},
   "source": [
    "## Performed hypothesis test got a p-value (NOT assumption test)"
   ]
  },
  {
   "cell_type": "code",
   "execution_count": 21,
   "metadata": {},
   "outputs": [
    {
     "name": "stdout",
     "output_type": "stream",
     "text": [
      "statistic : 16.67201189929595\n",
      "pvalue : 1.6787745760571644e-49\n"
     ]
    },
    {
     "data": {
      "text/plain": [
       "True"
      ]
     },
     "execution_count": 21,
     "metadata": {},
     "output_type": "execute_result"
    }
   ],
   "source": [
    "# Independent t-test with equal_var set to False\n",
    "statistic , pvalue = stats.ttest_ind(english_rev_df, non_english_rev_df, equal_var = False)\n",
    "print(\"statistic :\" , statistic)\n",
    "print(\"pvalue :\" , pvalue)\n",
    "pvalue<.05"
   ]
  },
  {
   "cell_type": "markdown",
   "metadata": {},
   "source": [
    "Due to the P-value being lesser than the significance level of alpha \"0.05\", we can safely say that we will have to reject the Null hypothesis, the Null hypothesis being that The Movie language will not effect revenue. Below you will find An appropriate visualization to compare the groups means is included."
   ]
  },
  {
   "cell_type": "code",
   "execution_count": 22,
   "metadata": {},
   "outputs": [
    {
     "data": {
      "image/png": "[encoded data removed]",
      "text/plain": [
       "<Figure size 640x480 with 1 Axes>"
      ]
     },
     "metadata": {},
     "output_type": "display_data"
    }
   ],
   "source": [
    "ax = sns.histplot(data=english_df,x='revenue',kde =True, color='orange')\n",
    "ax = sns.histplot(data=non_english_df,x='revenue',kde =True, color='blue')\n",
    "ax.axvline(english_rev_df.mean(), color='orange',label='English Mean')\n",
    "ax.axvline(non_english_rev_df.mean(), color='blue', label='non-English Mean')\n",
    "ax.legend();"
   ]
  },
  {
   "cell_type": "markdown",
   "metadata": {},
   "source": [
    "# ///////////////////////////////////////////////////////////////////////////////////////////////////"
   ]
  },
  {
   "cell_type": "markdown",
   "metadata": {},
   "source": [
    "# Hypothesis Test: Do movies that are over 2.5 hours long earn more revenue than movies that are 1.5 hours long (or less)?"
   ]
  },
  {
   "cell_type": "markdown",
   "metadata": {},
   "source": [
    "State your Null Hypothesis and Alternative Hypothesis\n",
    "\n",
    "* Null Hypothesis \n",
    "   - The Movie length will not affect revenue\n",
    "* Alternative Hypothesis \n",
    "   - The revenue is effected by the length of the movie"
   ]
  },
  {
   "cell_type": "markdown",
   "metadata": {},
   "source": [
    "## Separate the data into two groups (“has discount” and “no discount”) "
   ]
  },
  {
   "cell_type": "code",
   "execution_count": 23,
   "metadata": {},
   "outputs": [],
   "source": [
    "# Filtering out movies that are longer than 2,5 hours and shorter than 1,5 hours\n",
    "longer_df = df_combined.loc[df_combined['runtime']>150].copy()\n",
    "shorter_df = df_combined.loc[df_combined['runtime']<=90].copy()\n",
    "longer_rev_df = longer_df['revenue']\n",
    "shorter_rev_df = shorter_df['revenue']"
   ]
  },
  {
   "cell_type": "markdown",
   "metadata": {},
   "source": [
    "### Removed outliers from any non-normal distributions."
   ]
  },
  {
   "cell_type": "code",
   "execution_count": 24,
   "metadata": {},
   "outputs": [
    {
     "data": {
      "text/plain": [
       "0"
      ]
     },
     "execution_count": 24,
     "metadata": {},
     "output_type": "execute_result"
    }
   ],
   "source": [
    "# check outliers from >2,5 revenue\n",
    "zscores= stats.zscore(longer_rev_df)\n",
    "outliers = abs(zscores)>3\n",
    "np.sum(outliers)"
   ]
  },
  {
   "cell_type": "code",
   "execution_count": 25,
   "metadata": {},
   "outputs": [
    {
     "data": {
      "text/plain": [
       "3"
      ]
     },
     "execution_count": 25,
     "metadata": {},
     "output_type": "execute_result"
    }
   ],
   "source": [
    "# check outliers from <1,5 revenue\n",
    "zscores= stats.zscore(shorter_rev_df)\n",
    "outliers = abs(zscores)>3\n",
    "np.sum(outliers)"
   ]
  },
  {
   "cell_type": "code",
   "execution_count": 26,
   "metadata": {},
   "outputs": [],
   "source": [
    "# remove outliers from <1,5 revenue\n",
    "shorter_rev_df = shorter_rev_df[(np.abs(stats.zscore(shorter_rev_df)) < 3)]"
   ]
  },
  {
   "cell_type": "markdown",
   "metadata": {},
   "source": [
    "### Tested assumption of normality "
   ]
  },
  {
   "cell_type": "code",
   "execution_count": 27,
   "metadata": {},
   "outputs": [
    {
     "name": "stderr",
     "output_type": "stream",
     "text": [
      "C:\\Users\\CHBAM\\AppData\\Local\\Packages\\PythonSoftwareFoundation.Python.3.10_qbz5n2kfra8p0\\LocalCache\\local-packages\\Python310\\site-packages\\scipy\\stats\\_stats_py.py:1806: UserWarning: kurtosistest only valid for n>=20 ... continuing anyway, n=14\n",
      "  warnings.warn(\"kurtosistest only valid for n>=20 ... continuing \"\n"
     ]
    },
    {
     "data": {
      "text/plain": [
       "NormaltestResult(statistic=14.223359894060177, pvalue=0.0008155238038734292)"
      ]
     },
     "execution_count": 27,
     "metadata": {},
     "output_type": "execute_result"
    }
   ],
   "source": [
    "# test the longer group for normality\n",
    "result_longer_rev_df = stats.normaltest(longer_rev_df)\n",
    "result_longer_rev_df"
   ]
  },
  {
   "cell_type": "code",
   "execution_count": 28,
   "metadata": {},
   "outputs": [
    {
     "data": {
      "text/plain": [
       "NormaltestResult(statistic=73.67137377895112, pvalue=1.0056907294607807e-16)"
      ]
     },
     "execution_count": 28,
     "metadata": {},
     "output_type": "execute_result"
    }
   ],
   "source": [
    "# test the shorter group for normality\n",
    "result_shorter_rev_df = stats.normaltest(shorter_rev_df)\n",
    "result_shorter_rev_df"
   ]
  },
  {
   "cell_type": "markdown",
   "metadata": {},
   "source": [
    "### Tested assumption of equal variance "
   ]
  },
  {
   "cell_type": "code",
   "execution_count": 29,
   "metadata": {},
   "outputs": [
    {
     "name": "stdout",
     "output_type": "stream",
     "text": [
      "4.0821284147011245e+17 1.1823841032990454e+16\n"
     ]
    },
    {
     "data": {
      "text/plain": [
       "LeveneResult(statistic=37.25810151296544, pvalue=2.0269060918296847e-08)"
      ]
     },
     "execution_count": 29,
     "metadata": {},
     "output_type": "execute_result"
    }
   ],
   "source": [
    "# Test for equal variance\n",
    "print(np.var(longer_rev_df), np.var(shorter_rev_df))\n",
    "result = stats.levene(longer_rev_df, shorter_rev_df)\n",
    "result"
   ]
  },
  {
   "cell_type": "code",
   "execution_count": 30,
   "metadata": {},
   "outputs": [
    {
     "name": "stdout",
     "output_type": "stream",
     "text": [
      "statistic : 4.766908379783856\n",
      "pvalue : 0.0003593715675889508\n"
     ]
    },
    {
     "data": {
      "text/plain": [
       "True"
      ]
     },
     "execution_count": 30,
     "metadata": {},
     "output_type": "execute_result"
    }
   ],
   "source": [
    "# Independent t-test with equal_var set to False\n",
    "statistic , pvalue = stats.ttest_ind(longer_rev_df, shorter_rev_df, equal_var = False)\n",
    "print(\"statistic :\" , statistic)\n",
    "print(\"pvalue :\" , pvalue)\n",
    "pvalue<.05"
   ]
  },
  {
   "cell_type": "markdown",
   "metadata": {},
   "source": [
    "Due to the P-value being lesser than the significance level of alpha \"0.05\", we can safely say that we will have to reject the Null hypothesis, the Null hypothesis being that The Movie length will not affect revenue. Below you will find An appropriate visualization to compare the groups means is included."
   ]
  },
  {
   "cell_type": "code",
   "execution_count": 31,
   "metadata": {},
   "outputs": [
    {
     "data": {
      "image/png": "[encoded data removed]",
      "text/plain": [
       "<Figure size 640x480 with 1 Axes>"
      ]
     },
     "metadata": {},
     "output_type": "display_data"
    }
   ],
   "source": [
    "ax = sns.histplot(data=longer_df,x='revenue',kde =True, color='orange')\n",
    "ax = sns.histplot(data=shorter_df,x='revenue',kde =True, color='blue')\n",
    "ax.axvline(longer_rev_df.mean(), color='orange',label='longer than 2,5 hour Mean')\n",
    "ax.axvline(shorter_rev_df.mean(), color='blue', label='Shorter than 1,5 hour Mean')\n",
    "ax.legend();"
   ]
  }
 ],
 "metadata": {
  "kernelspec": {
   "display_name": "Python 3",
   "language": "python",
   "name": "python3"
  },
  "language_info": {
   "codemirror_mode": {
    "name": "ipython",
    "version": 3
   },
   "file_extension": ".py",
   "mimetype": "text/x-python",
   "name": "python",
   "nbconvert_exporter": "python",
   "pygments_lexer": "ipython3",
   "version": "3.10.11"
  }
 },
 "nbformat": 4,
 "nbformat_minor": 2
}
