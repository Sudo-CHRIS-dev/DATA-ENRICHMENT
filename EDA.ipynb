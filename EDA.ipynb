{
 "cells": [
  {
   "cell_type": "markdown",
   "metadata": {},
   "source": [
    "Exploratory Data Analysis"
   ]
  },
  {
   "cell_type": "code",
   "execution_count": 1,
   "metadata": {},
   "outputs": [],
   "source": [
    "import pandas as pd"
   ]
  },
  {
   "cell_type": "code",
   "execution_count": 2,
   "metadata": {},
   "outputs": [],
   "source": [
    "Movies2000 = pd.read_csv('data/final_tmdb_data_2000.csv.gz')\n",
    "Movies2001 = pd.read_csv('data/final_tmdb_data_2001.csv.gz')"
   ]
  },
  {
   "cell_type": "code",
   "execution_count": 3,
   "metadata": {},
   "outputs": [],
   "source": [
    "Movies = pd.concat([Movies2000,Movies2001])"
   ]
  },
  {
   "cell_type": "code",
   "execution_count": 4,
   "metadata": {},
   "outputs": [
    {
     "name": "stdout",
     "output_type": "stream",
     "text": [
      "<class 'pandas.core.frame.DataFrame'>\n",
      "Index: 664 entries, 1 to 1575\n",
      "Data columns (total 26 columns):\n",
      " #   Column                 Non-Null Count  Dtype  \n",
      "---  ------                 --------------  -----  \n",
      " 0   imdb_id                664 non-null    object \n",
      " 1   adult                  664 non-null    float64\n",
      " 2   backdrop_path          558 non-null    object \n",
      " 3   belongs_to_collection  111 non-null    object \n",
      " 4   budget                 664 non-null    float64\n",
      " 5   genres                 664 non-null    object \n",
      " 6   homepage               78 non-null     object \n",
      " 7   id                     664 non-null    float64\n",
      " 8   original_language      664 non-null    object \n",
      " 9   original_title         664 non-null    object \n",
      " 10  overview               661 non-null    object \n",
      " 11  popularity             664 non-null    float64\n",
      " 12  poster_path            641 non-null    object \n",
      " 13  production_companies   664 non-null    object \n",
      " 14  production_countries   664 non-null    object \n",
      " 15  release_date           663 non-null    object \n",
      " 16  revenue                664 non-null    float64\n",
      " 17  runtime                664 non-null    float64\n",
      " 18  spoken_languages       664 non-null    object \n",
      " 19  status                 664 non-null    object \n",
      " 20  tagline                521 non-null    object \n",
      " 21  title                  664 non-null    object \n",
      " 22  video                  664 non-null    float64\n",
      " 23  vote_average           664 non-null    float64\n",
      " 24  vote_count             664 non-null    float64\n",
      " 25  certification          438 non-null    object \n",
      "dtypes: float64(9), object(17)\n",
      "memory usage: 140.1+ KB\n"
     ]
    }
   ],
   "source": [
    "Movies = Movies[((Movies.budget > 0) | (Movies.revenue > 0))]\n",
    "Movies.info()"
   ]
  },
  {
   "cell_type": "markdown",
   "metadata": {},
   "source": [
    "1. How many movies had at least some valid financial information (values > 0 for budget OR revenue)?\n",
    "\n",
    "~664"
   ]
  },
  {
   "cell_type": "code",
   "execution_count": 7,
   "metadata": {},
   "outputs": [
    {
     "data": {
      "text/plain": [
       "certification\n",
       "R        230\n",
       "PG-13    134\n",
       "PG        38\n",
       "NR        21\n",
       "G         15\n",
       "Name: count, dtype: int64"
      ]
     },
     "execution_count": 7,
     "metadata": {},
     "output_type": "execute_result"
    }
   ],
   "source": [
    "# 2. How many movies are there in each of the certification categories (G/PG/PG-13/R)?\n",
    "Movies.value_counts('certification')"
   ]
  },
  {
   "cell_type": "code",
   "execution_count": 8,
   "metadata": {},
   "outputs": [
    {
     "data": {
      "text/plain": [
       "certification\n",
       "G        1.173648e+08\n",
       "NR       1.683156e+07\n",
       "PG       1.021913e+08\n",
       "PG-13    9.780680e+07\n",
       "R        3.015843e+07\n",
       "Name: revenue, dtype: float64"
      ]
     },
     "execution_count": 8,
     "metadata": {},
     "output_type": "execute_result"
    }
   ],
   "source": [
    "# What is the average revenue per certification category?\n",
    "Movies.groupby('certification')['revenue'].mean()"
   ]
  },
  {
   "cell_type": "code",
   "execution_count": 9,
   "metadata": {},
   "outputs": [
    {
     "data": {
      "text/plain": [
       "certification\n",
       "G        3.813333e+07\n",
       "NR       9.184624e+06\n",
       "PG       4.197361e+07\n",
       "PG-13    4.303103e+07\n",
       "R        1.831437e+07\n",
       "Name: budget, dtype: float64"
      ]
     },
     "execution_count": 9,
     "metadata": {},
     "output_type": "execute_result"
    }
   ],
   "source": [
    "# What is the average budget per certification category?\n",
    "Movies.groupby('certification')['budget'].mean()"
   ]
  }
 ],
 "metadata": {
  "kernelspec": {
   "display_name": "Python 3",
   "language": "python",
   "name": "python3"
  },
  "language_info": {
   "codemirror_mode": {
    "name": "ipython",
    "version": 3
   },
   "file_extension": ".py",
   "mimetype": "text/x-python",
   "name": "python",
   "nbconvert_exporter": "python",
   "pygments_lexer": "ipython3",
   "version": "3.10.11"
  }
 },
 "nbformat": 4,
 "nbformat_minor": 2
}
